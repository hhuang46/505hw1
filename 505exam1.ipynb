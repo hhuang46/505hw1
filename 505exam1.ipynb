{
 "cells": [
  {
   "cell_type": "markdown",
   "metadata": {},
   "source": [
    "Question 1"
   ]
  },
  {
   "cell_type": "markdown",
   "metadata": {},
   "source": [
    "(a) Using these data and Matthiessen's rule, determine the temperature coefficient of resistivity (TCR) for these Cu-Sn alloys."
   ]
  },
  {
   "cell_type": "code",
   "execution_count": 1,
   "metadata": {},
   "outputs": [],
   "source": [
    "import numpy as np\n",
    "from sklearn import linear_model\n",
    "import matplotlib.pyplot as plt\n",
    "data_file_name = \"Cu-Sn-alloy-properties.txt\""
   ]
  },
  {
   "cell_type": "code",
   "execution_count": 34,
   "metadata": {},
   "outputs": [],
   "source": [
    "#load text and calculate x*(1-x)\n",
    "data = np.loadtxt(data_file_name)\n",
    "Rho = data[:, 3]\n",
    "x = data[:, 2]\n",
    "y=x*(1-x)\n",
    "kappa = data[:, 5]\n",
    "sigma = data[:, 4]*10**6\n",
    "T = 300"
   ]
  },
  {
   "cell_type": "code",
   "execution_count": 35,
   "metadata": {},
   "outputs": [],
   "source": [
    "#do linear regression and calculate c\n",
    "regr = linear_model.LinearRegression()\n",
    "regr.fit(y.reshape(-1, 1), Rho)\n",
    "C, b = regr.coef_, regr.intercept_"
   ]
  },
  {
   "cell_type": "code",
   "execution_count": 36,
   "metadata": {},
   "outputs": [
    {
     "data": {
      "text/plain": [
       "[<matplotlib.lines.Line2D at 0x195a125c978>]"
      ]
     },
     "execution_count": 36,
     "metadata": {},
     "output_type": "execute_result"
    },
    {
     "data": {
      "image/png": "[encoded data removed]",
      "text/plain": [
       "<Figure size 432x288 with 1 Axes>"
      ]
     },
     "metadata": {
      "needs_background": "light"
     },
     "output_type": "display_data"
    }
   ],
   "source": [
    "#plot figure\n",
    "plt.figure()\n",
    "plt.scatter(y,Rho)\n",
    "plt.plot(y, regr.predict(y.reshape(-1,1)), color='red', linewidth=1)"
   ]
  },
  {
   "cell_type": "code",
   "execution_count": 37,
   "metadata": {},
   "outputs": [
    {
     "name": "stdout",
     "output_type": "stream",
     "text": [
      "TCR=[2671.86073881]\n"
     ]
    }
   ],
   "source": [
    "print(\"TCR=\"+str(C))"
   ]
  },
  {
   "cell_type": "markdown",
   "metadata": {},
   "source": [
    "（b）Based on your regression for part (a), what is the resistivity of pure copper? What should be the resistivity of an alloy containing 3 atomic % Sn (X=0.03)?"
   ]
  },
  {
   "cell_type": "code",
   "execution_count": 38,
   "metadata": {},
   "outputs": [
    {
     "name": "stdout",
     "output_type": "stream",
     "text": [
      "resistivity of pure copper is 17.164385477312578 nOhm m\n"
     ]
    }
   ],
   "source": [
    "print(\"resistivity of pure copper is \"+str(b)+\" nOhm m\")"
   ]
  },
  {
   "cell_type": "code",
   "execution_count": 39,
   "metadata": {},
   "outputs": [
    {
     "name": "stdout",
     "output_type": "stream",
     "text": [
      "resistivity of an alloy containing 3 atomic % Sn is[94.91553298] nOhm m\n"
     ]
    }
   ],
   "source": [
    "print(\"resistivity of an alloy containing 3 atomic % Sn is\"+str(C*0.03*(1-0.03)+b)+\" nOhm m\")"
   ]
  },
  {
   "cell_type": "markdown",
   "metadata": {},
   "source": [
    "(c) The Wiedemann-Franz law says thermal conductivity and electrical conductivity are related by kappa/sigma = CWFT. Plot this relation and determine the constant CWF in units of W Ω K-2."
   ]
  },
  {
   "cell_type": "code",
   "execution_count": 40,
   "metadata": {},
   "outputs": [
    {
     "name": "stdout",
     "output_type": "stream",
     "text": [
      "[2.17578361e-08]\n"
     ]
    }
   ],
   "source": [
    "regr.fit(sigma.reshape(-1, 1), kappa)\n",
    "k, b1 = regr.coef_, regr.intercept_\n",
    "CWF = k/T\n",
    "print(CWF)"
   ]
  },
  {
   "cell_type": "code",
   "execution_count": 44,
   "metadata": {},
   "outputs": [
    {
     "data": {
      "text/plain": [
       "[<matplotlib.lines.Line2D at 0x195a1482b70>]"
      ]
     },
     "execution_count": 44,
     "metadata": {},
     "output_type": "execute_result"
    },
    {
     "data": {
      "image/png": "[encoded data removed]",
      "text/plain": [
       "<Figure size 432x288 with 1 Axes>"
      ]
     },
     "metadata": {
      "needs_background": "light"
     },
     "output_type": "display_data"
    }
   ],
   "source": [
    "#plot figure\n",
    "plt.figure()\n",
    "plt.scatter(sigma,kappa)\n",
    "x = np.linspace(min(sigma),max(sigma),100)\n",
    "y = k*x+b1\n",
    "plt.plot(x, y, color='red', linewidth=1)"
   ]
  },
  {
   "cell_type": "markdown",
   "metadata": {},
   "source": [
    "Question 1"
   ]
  },
  {
   "cell_type": "markdown",
   "metadata": {},
   "source": [
    "Using only the data from the MD calculation, recalculate the constant CWF? Does this agree with the result of problem 1? If no then what are the likely causes for differences, and if yes then explain why MD is sufficient?"
   ]
  },
  {
   "cell_type": "code",
   "execution_count": 117,
   "metadata": {},
   "outputs": [],
   "source": [
    "import numpy as np\n",
    "from sklearn import linear_model\n",
    "import matplotlib.pyplot as plt\n",
    "data_file_name = \"505exam1-2.txt\"\n",
    "\n",
    "data = np.loadtxt(data_file_name)\n",
    "kappa = data[:, 1]\n",
    "sigma = data[:, 0]*10**6"
   ]
  },
  {
   "cell_type": "code",
   "execution_count": 118,
   "metadata": {},
   "outputs": [
    {
     "name": "stdout",
     "output_type": "stream",
     "text": [
      "[6.57899518e-09]\n"
     ]
    }
   ],
   "source": [
    "regr.fit(sigma.reshape(-1, 1), kappa)\n",
    "k, b1 = regr.coef_, regr.intercept_\n",
    "CWF = k/T\n",
    "print(CWF)"
   ]
  },
  {
   "cell_type": "code",
   "execution_count": 119,
   "metadata": {},
   "outputs": [
    {
     "data": {
      "text/plain": [
       "[<matplotlib.lines.Line2D at 0x195a1968908>]"
      ]
     },
     "execution_count": 119,
     "metadata": {},
     "output_type": "execute_result"
    },
    {
     "data": {
      "image/png": "[encoded data removed]",
      "text/plain": [
       "<Figure size 432x288 with 1 Axes>"
      ]
     },
     "metadata": {
      "needs_background": "light"
     },
     "output_type": "display_data"
    }
   ],
   "source": [
    "#plot figure\n",
    "plt.figure()\n",
    "plt.scatter(sigma,kappa)\n",
    "x = np.linspace(min(sigma),max(sigma),100)\n",
    "y = k*x+b1\n",
    "plt.plot(x, y, color='red', linewidth=1)"
   ]
  },
  {
   "cell_type": "markdown",
   "metadata": {},
   "source": [
    "It do not fit well because some of the data, so some of the data should be dropped. "
   ]
  },
  {
   "cell_type": "code",
   "execution_count": 120,
   "metadata": {},
   "outputs": [
    {
     "name": "stdout",
     "output_type": "stream",
     "text": [
      "[2.67950032e-08]\n"
     ]
    }
   ],
   "source": [
    "sigma = np.delete(sigma,(1,10))\n",
    "kappa = np.delete(kappa,(1,10))\n",
    "regr.fit(sigma.reshape(-1, 1), kappa)\n",
    "k, b1 = regr.coef_, regr.intercept_\n",
    "CWF = k/T\n",
    "print(CWF)"
   ]
  },
  {
   "cell_type": "code",
   "execution_count": 121,
   "metadata": {},
   "outputs": [
    {
     "data": {
      "text/plain": [
       "[<matplotlib.lines.Line2D at 0x195a19b25c0>]"
      ]
     },
     "execution_count": 121,
     "metadata": {},
     "output_type": "execute_result"
    },
    {
     "data": {
      "image/png": "[encoded data removed]",
      "text/plain": [
       "<Figure size 432x288 with 1 Axes>"
      ]
     },
     "metadata": {
      "needs_background": "light"
     },
     "output_type": "display_data"
    }
   ],
   "source": [
    "#plot figure\n",
    "plt.figure()\n",
    "plt.scatter(sigma,kappa)\n",
    "x = np.linspace(min(sigma),max(sigma),100)\n",
    "y = k*x+b1\n",
    "plt.plot(x, y, color='red', linewidth=1)"
   ]
  },
  {
   "cell_type": "markdown",
   "metadata": {},
   "source": [
    "(b) What relationships do you identify between the chemistry and the trend with conductivity, ie. what about chemistry shows noticeable impact on model results? \n",
    " \n"
   ]
  },
  {
   "cell_type": "markdown",
   "metadata": {},
   "source": [
    "The position of element in the periodic table has great impact on the trend with conductivity.\n",
    "alkali and alkali-earth metal on the left end are moderately good conductors, the ones in the middle (the transition metals) are moderate to very good conductors, and the elements on the right are very poor conductors."
   ]
  },
  {
   "cell_type": "markdown",
   "metadata": {},
   "source": [
    "(C)Using the data for Cu and Sn, predict the thermal and electrical conductivities of the compositions from problem 1. What are possible explanations for any deviations from the\n",
    "experimental data, and if there are no deviations then why is MD able to correctly model the property values?"
   ]
  },
  {
   "cell_type": "code",
   "execution_count": 122,
   "metadata": {},
   "outputs": [],
   "source": [
    "sigma_Cu = data[6,0]*10**6\n",
    "kappa_Cu = data[6,1]\n",
    "sigma_Sn = data[0,0]*10**6\n",
    "kappa_Sn = data[9,1]\n"
   ]
  },
  {
   "cell_type": "code",
   "execution_count": 123,
   "metadata": {},
   "outputs": [],
   "source": [
    "sigma1 = np.hstack((sigma_Cu,sigma_Sn))\n",
    "kappa1 = np.hstack((kappa_Cu,kappa_Sn))"
   ]
  },
  {
   "cell_type": "code",
   "execution_count": 124,
   "metadata": {},
   "outputs": [
    {
     "name": "stdout",
     "output_type": "stream",
     "text": [
      "[9.94561523e-08]\n"
     ]
    }
   ],
   "source": [
    "regr.fit(sigma1.reshape(-1, 1), kappa1)\n",
    "k1, b1 = regr.coef_, regr.intercept_\n",
    "CWF = k1/T\n",
    "print(CWF)"
   ]
  },
  {
   "cell_type": "code",
   "execution_count": 125,
   "metadata": {},
   "outputs": [],
   "source": [
    "data_file_name = \"Cu-Sn-alloy-properties.txt\"\n",
    "data = np.loadtxt(data_file_name)\n",
    "kappa_exp = data[:, 5]\n",
    "sigma_exp = data[:, 4]*10**6\n",
    "\n",
    "kappa_predict = k1*sigma_exp + b1"
   ]
  },
  {
   "cell_type": "code",
   "execution_count": 126,
   "metadata": {},
   "outputs": [
    {
     "name": "stdout",
     "output_type": "stream",
     "text": [
      "The prediction data of kappa is [ 689.92568965 -226.11780665 -830.58189644 -864.87547773]\n",
      "The experiment data of kappa is [391. 208.  62.  50.]\n",
      "The error between experiment data and prediction data is  [ 298.92568965 -434.11780665 -892.58189644 -914.87547773]\n"
     ]
    }
   ],
   "source": [
    "print('The prediction data of kappa is', kappa_predict) \n",
    "print('The experiment data of kappa is', kappa_exp) \n",
    "print( 'The error between experiment data and prediction data is ', kappa_predict-kappa_exp) \n"
   ]
  },
  {
   "cell_type": "markdown",
   "metadata": {},
   "source": [
    "Question 3"
   ]
  },
  {
   "cell_type": "markdown",
   "metadata": {},
   "source": [
    "(a) Using the code developed in homework 3, estimate the lattice parameter and energy for an Ar-Cu system in the fcc-like and the bcc-like structure for 25% and 50% of Ar (assume solid solution and 0 K conditions)."
   ]
  },
  {
   "cell_type": "code",
   "execution_count": 77,
   "metadata": {},
   "outputs": [],
   "source": [
    "import numpy as np\n",
    "import matplotlib.pyplot as plt\n",
    "\n",
    "def fccsuml(a,nc,rc): # input a = lattice parameter, nc = number of unit cells summed over\n",
    "    n=4 #number of atoms in unit cell \n",
    "    r = np.array([(0,0,0),(0.5,0.5,0),(0,0.5,0.5),(0.5,0,0.5)]) # unit cell positions\n",
    "    ucell=0 # initialize energy \n",
    "    for k in range (-nc,nc): # sum over unit cells in x direction \n",
    "        for l in range (-nc,nc): # sum over unit cells in y direction \n",
    "            for m in range (-nc,nc): # sum over unit cells in z direction\n",
    "                for i in range (n): # sum over atoms in the unit cell \n",
    "                    for j in range (n): # sum over atoms in the unit cell \n",
    "                        # dist = distance between atoms \n",
    "                        dist = a*np.sqrt((k+r[j,0]-r[i,0])**2+(l+r[j,1]-r[i,1])**2+(m+r[j,2]-r[i,2])**2)\n",
    "                        if dist>0 and dist <= rc:\n",
    "                            if i == 0 and j == 0:\n",
    "                                u = 2*4*epsilon_Ar*((sigma_Ar/dist)**12-(sigma_Ar/dist)**6)\n",
    "                            elif i == 0 and j == 1:\n",
    "                                u = 2*4*epsilon_ArCu*((sigma_ArCu/dist)**12-(sigma_ArCu/dist)**6)\n",
    "                            else:\n",
    "                                u = 2*4*epsilon_Cu*((sigma_Cu/dist)**12-(sigma_Cu/dist)**6)\n",
    "                        else: \n",
    "                            u=0\n",
    "                        ucell = ucell + u #sum the energy \n",
    "    ucell=ucell/n # output energy per atom \n",
    "    return ucell # output: ucell = energy per atom"
   ]
  },
  {
   "cell_type": "code",
   "execution_count": 78,
   "metadata": {},
   "outputs": [],
   "source": [
    "def bccsuml(a,nc,rc): # input a = lattice parameter, nc = number of unit cells summed over\n",
    "    n = 2 #number of atoms in unit cell \n",
    "    r = np.array([(0,0,0),(0.5,0.5,0.5)]) # unit cell positions\n",
    "    ucell=0 # initialize energy \n",
    "    for k in range (-nc,nc): # sum over unit cells in x direction \n",
    "        for l in range (-nc,nc): # sum over unit cells in y direction \n",
    "            for m in range (-nc,nc): # sum over unit cells in z direction\n",
    "                for i in range (n): # sum over atoms in the unit cell \n",
    "                    for j in range (n): # sum over atoms in the unit cell \n",
    "                        # dist = distance between atoms \n",
    "                        dist = a*np.sqrt((k+r[j,0]-r[i,0])**2+(l+r[j,1]-r[i,1])**2+(m+r[j,2]-r[i,2])**2)\n",
    "                        if dist>0 and dist <= rc:\n",
    "                            #make sure distance is nonzero \n",
    "                            if i == 0 and j == 0:\n",
    "                                u = 2*4*epsilon_Ar*((sigma_Ar/dist)**12-(sigma_Ar/dist)**6)\n",
    "                            elif i == 1 and j == 1:\n",
    "                                u = 2*4*epsilon_Cu*((sigma_Cu/dist)**12-(sigma_Cu/dist)**6)\n",
    "                            else:\n",
    "                                u = 2*4*epsilon_ArCu*((sigma_ArCu/dist)**12-(sigma_ArCu/dist)**6)\n",
    "                        else: \n",
    "                            u=0\n",
    "                        ucell = ucell + u #sum the energy \n",
    "    ucell=ucell/n # output energy per atom \n",
    "    return ucell # output: ucell = energy per atom"
   ]
  },
  {
   "cell_type": "code",
   "execution_count": 79,
   "metadata": {},
   "outputs": [],
   "source": [
    "a_s=[]\n",
    "u0fcc = []\n",
    "u0bcc = []\n",
    "\n",
    "KB = 1.38e-23\n",
    "sigma_Ar = 0.341\n",
    "epsilon_Ar = 119.8*KB\n",
    "sigma_Cu = 0.227\n",
    "epsilon_Cu = 6765.4*KB\n",
    "sigma_ArCu = np.sqrt(sigma_Ar*sigma_Cu)\n",
    "epsilon_ArCu = np.sqrt(epsilon_Ar*epsilon_Cu)"
   ]
  },
  {
   "cell_type": "code",
   "execution_count": 80,
   "metadata": {},
   "outputs": [],
   "source": [
    "a = 0.3\n",
    "for i in range(201):\n",
    "    u0fcc.append(fccsuml(a,4, 5))\n",
    "    u0bcc.append(bccsuml(a,4, 5))\n",
    "    a_s.append(a)\n",
    "    a=a+0.002"
   ]
  },
  {
   "cell_type": "code",
   "execution_count": 87,
   "metadata": {},
   "outputs": [
    {
     "name": "stdout",
     "output_type": "stream",
     "text": [
      "afcc_min=0.356 u0fcc_min=-2.7249412639503464e-18J\n"
     ]
    }
   ],
   "source": [
    "a_min = u0fcc.index(min(u0fcc))\n",
    "a = 0.3+0.002*a_min\n",
    "b = fccsuml(a,4, 5)\n",
    "print(\"afcc_min=\"+str(a),\"u0fcc_min=\"+str(b)+\"J\")"
   ]
  },
  {
   "cell_type": "code",
   "execution_count": 88,
   "metadata": {},
   "outputs": [
    {
     "name": "stdout",
     "output_type": "stream",
     "text": [
      "abcc_min=0.33799999999999997 u0bcc_min=-4.836268801017498e-19J\n"
     ]
    }
   ],
   "source": [
    "a_min = u0bcc.index(min(u0bcc))\n",
    "a = 0.3+0.002*a_min\n",
    "b = bccsuml(a,4, 5)\n",
    "print(\"abcc_min=\"+str(a),\"u0bcc_min=\"+str(b)+\"J\")"
   ]
  },
  {
   "cell_type": "code",
   "execution_count": 89,
   "metadata": {},
   "outputs": [
    {
     "data": {
      "text/plain": [
       "Text(0.5,1,'energy at the equilibrium vs cutoff distance (FCC)')"
      ]
     },
     "execution_count": 89,
     "metadata": {},
     "output_type": "execute_result"
    },
    {
     "data": {
      "image/png": "[encoded data removed]",
      "text/plain": [
       "<Figure size 432x288 with 1 Axes>"
      ]
     },
     "metadata": {
      "needs_background": "light"
     },
     "output_type": "display_data"
    }
   ],
   "source": [
    "plt.figure()\n",
    "plt.plot(a_s,u0fcc)\n",
    "plt.xlabel('cutoff distance')\n",
    "plt.ylabel('energy at the equilibrium')\n",
    "plt.title('energy at the equilibrium vs cutoff distance (FCC)')"
   ]
  },
  {
   "cell_type": "code",
   "execution_count": 90,
   "metadata": {},
   "outputs": [
    {
     "data": {
      "text/plain": [
       "Text(0.5,1,'energy at the equilibrium vs cutoff distance (BCC)')"
      ]
     },
     "execution_count": 90,
     "metadata": {},
     "output_type": "execute_result"
    },
    {
     "data": {
      "image/png": "[encoded data removed]",
      "text/plain": [
       "<Figure size 432x288 with 1 Axes>"
      ]
     },
     "metadata": {
      "needs_background": "light"
     },
     "output_type": "display_data"
    }
   ],
   "source": [
    "plt.figure()\n",
    "plt.plot(a_s, u0bcc)\n",
    "plt.xlabel('cutoff distance')\n",
    "plt.ylabel('energy at the equilibrium')\n",
    "plt.title('energy at the equilibrium vs cutoff distance (BCC)')"
   ]
  },
  {
   "cell_type": "markdown",
   "metadata": {},
   "source": [
    "(b) What modifications would be necessary in order to perform these calculations at non-zero temperatures."
   ]
  },
  {
   "cell_type": "markdown",
   "metadata": {},
   "source": [
    "Since the temperature is non-zero, the atoms can move. As a result, calculation of motion, momenta and kinetic energy should be added in the solution. "
   ]
  },
  {
   "cell_type": "markdown",
   "metadata": {},
   "source": [
    "Question 4"
   ]
  },
  {
   "cell_type": "markdown",
   "metadata": {},
   "source": [
    "(a) How far from the original starting point on average is an atom after 1,000 jumps in a BCC lattice?"
   ]
  },
  {
   "cell_type": "code",
   "execution_count": 94,
   "metadata": {},
   "outputs": [],
   "source": [
    "import random \n",
    "import numpy as np \n",
    "from matplotlib import mlab \n",
    "import matplotlib.pyplot as plt"
   ]
  },
  {
   "cell_type": "code",
   "execution_count": 95,
   "metadata": {},
   "outputs": [],
   "source": [
    "times = 500\n",
    "steps = 1000\n",
    "\n",
    "x =np.zeros(times)\n",
    "# start particle at the origin \n",
    "y=np.zeros(times)\n",
    "z=np.zeros(times)\n",
    "r2s=np.zeros(steps)\n",
    "sig=np.zeros(steps)\n",
    "\n",
    "delx = [0.5,0.5,0.5,0.5,-0.5,-0.5,-0.5,-0.5,0.5,0.5,0.5,0.5]\n",
    "dely = [0.5,0.5,-0.5,-0.5,0.5,0.5,-0.5,-0.5,0.5,0.5,-0.5,-0.5]\n",
    "delz = [0.5,-0.5,0.5,-0.5,0.5,-0.5,0.5,-0.5,0.5,-0.5,0.5,-0.5]\n",
    "ds = 0"
   ]
  },
  {
   "cell_type": "code",
   "execution_count": 96,
   "metadata": {},
   "outputs": [
    {
     "name": "stdout",
     "output_type": "stream",
     "text": [
      "av_ds=167.5932111148253\n"
     ]
    }
   ],
   "source": [
    "for i in range(times):\n",
    "    for m in range(steps): \n",
    "         # difine a list of random jump\n",
    "        fd = random.randint(0,11)\n",
    "        x[i] =  x[i] + delx[fd]\n",
    "        y[i] =  y[i] + dely[fd]\n",
    "        z[i] =  z[i] + delz[fd]\n",
    "        r2 = x[i]**2+y[i]**2+z[i]**2\n",
    "        r2s[m] = r2s[m] + r2\n",
    "        sig[m] = sig[m] + r2**2\n",
    "    distance = np.sqrt(x[i]**2+y[i]**2+z[i]**2)\n",
    "    ds = ds+distance\n",
    "\n",
    "for m in range(steps):\n",
    "    r2s[m] = r2s[m]/times\n",
    "    sig[m] = (sig[m]/times-r2s[m]**2)/r2s[m]**2\n",
    "     \n",
    "av_ds = ds/times\n",
    "\n",
    "print(\"av_ds=\"+str(av_ds))"
   ]
  },
  {
   "cell_type": "markdown",
   "metadata": {},
   "source": [
    "(b) Provide the graphs of mean square displacement and standard deviation versus number of jumps. Are there any significant differences between what we saw in the case with unbiased motion."
   ]
  },
  {
   "cell_type": "code",
   "execution_count": 97,
   "metadata": {},
   "outputs": [
    {
     "data": {
      "image/png": "[encoded data removed]",
      "text/plain": [
       "<Figure size 432x288 with 1 Axes>"
      ]
     },
     "metadata": {
      "needs_background": "light"
     },
     "output_type": "display_data"
    }
   ],
   "source": [
    "plt.figure()\n",
    "plt.plot(r2s)\n",
    "plt.savefig('r2s')"
   ]
  },
  {
   "cell_type": "markdown",
   "metadata": {},
   "source": [
    "The mean square displacement is not linear in n, but it is linear in unbiased motion. "
   ]
  },
  {
   "cell_type": "code",
   "execution_count": 99,
   "metadata": {},
   "outputs": [
    {
     "data": {
      "image/png": "[encoded data removed]",
      "text/plain": [
       "<Figure size 432x288 with 1 Axes>"
      ]
     },
     "metadata": {
      "needs_background": "light"
     },
     "output_type": "display_data"
    }
   ],
   "source": [
    "plt.figure()\n",
    "plt.plot(sig)\n",
    "plt.savefig('sig')"
   ]
  },
  {
   "cell_type": "markdown",
   "metadata": {},
   "source": [
    "The standard deviation is close to zero, however it is close to one in unbiased motion. "
   ]
  },
  {
   "cell_type": "code",
   "execution_count": null,
   "metadata": {},
   "outputs": [],
   "source": []
  }
 ],
 "metadata": {
  "kernelspec": {
   "display_name": "Python 3",
   "language": "python",
   "name": "python3"
  },
  "language_info": {
   "codemirror_mode": {
    "name": "ipython",
    "version": 3
   },
   "file_extension": ".py",
   "mimetype": "text/x-python",
   "name": "python",
   "nbconvert_exporter": "python",
   "pygments_lexer": "ipython3",
   "version": "3.7.0"
  }
 },
 "nbformat": 4,
 "nbformat_minor": 2
}
