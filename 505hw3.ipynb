{
 "cells": [
  {
   "cell_type": "code",
   "execution_count": 15,
   "metadata": {},
   "outputs": [],
   "source": [
    "import numpy as np \n",
    "import matplotlib.pyplot as plt"
   ]
  },
  {
   "cell_type": "code",
   "execution_count": 16,
   "metadata": {},
   "outputs": [],
   "source": [
    "def fccsuml(a,nc,rc): # input a = lattice parameter, nc = number of unit cells summed over\n",
    "    n=4 #number of atoms in unit cell \n",
    "    r = np.array([(0,0,0),(0.5,0.5,0),(0,0.5,0.5),(0.5,0,0.5)]) # unit cell positions\n",
    "    ucell=0 # initialize energy \n",
    "    for k in range (-nc,nc): # sum over unit cells in x direction \n",
    "        for l in range (-nc,nc): # sum over unit cells in y direction \n",
    "            for m in range (-nc,nc): # sum over unit cells in z direction\n",
    "                for i in range (n): # sum over atoms in the unit cell \n",
    "                    for j in range (n): # sum over atoms in the unit cell \n",
    "                        # dist = distance between atoms \n",
    "                        dist = a*np.sqrt((k+r[j,0]-r[i,0])**2+(l+r[j,1]-r[i,1])**2+(m+r[j,2]-r[i,2])**2)\n",
    "                        if dist>0 and dist <= rc:\n",
    "                            #make sure distance is nonzero \n",
    "                            u=2*(1/(dist**12)-1/(dist**6))# potential/2 \n",
    "                        else: \n",
    "                            u=0\n",
    "                        ucell = ucell + u #sum the energy \n",
    "    ucell=ucell/n # output energy per atom \n",
    "    return ucell # output: ucell = energy per atom"
   ]
  },
  {
   "cell_type": "code",
   "execution_count": 17,
   "metadata": {},
   "outputs": [],
   "source": [
    "def bccsuml(a,nc,rc): # input a = lattice parameter, nc = number of unit cells summed over\n",
    "    n = 2 #number of atoms in unit cell \n",
    "    r = np.array([(0,0,0),(0.5,0.5,0.5)]) # unit cell positions\n",
    "    ucell=0 # initialize energy \n",
    "    for k in range (-nc,nc): # sum over unit cells in x direction \n",
    "        for l in range (-nc,nc): # sum over unit cells in y direction \n",
    "            for m in range (-nc,nc): # sum over unit cells in z direction\n",
    "                for i in range (n): # sum over atoms in the unit cell \n",
    "                    for j in range (n): # sum over atoms in the unit cell \n",
    "                        # dist = distance between atoms \n",
    "                        dist = a*np.sqrt((k+r[j,0]-r[i,0])**2+(l+r[j,1]-r[i,1])**2+(m+r[j,2]-r[i,2])**2)\n",
    "                        if dist>0 and dist <= rc:\n",
    "                            #make sure distance is nonzero \n",
    "                            u=2*(1/dist**12-1/dist**6)# potential/2 \n",
    "                        else: \n",
    "                            u=0\n",
    "                        ucell = ucell + u #sum the energy \n",
    "    ucell=ucell/n # output energy per atom \n",
    "    return ucell # output: ucell = energy per atom"
   ]
  },
  {
   "cell_type": "code",
   "execution_count": 18,
   "metadata": {},
   "outputs": [],
   "source": [
    "def equilibrium_ufcc(nc, rc):#a in range [1.45,1.65]\n",
    "    a=1.45\n",
    "    ucellfccs=[]\n",
    "    for i in range(100):\n",
    "        ucellfccs.append(fccsuml(a,3,rc))\n",
    "        a=a+0.002\n",
    "    return min(ucellfccs)\n",
    "\n",
    "def equilibrium_ubcc(nc, rc):\n",
    "    a=1.45\n",
    "    ucellbccs=[]\n",
    "    for i in range(101):\n",
    "        ucellbccs.append(bccsuml(a,3,rc))\n",
    "        a=a+0.002\n",
    "    return min(ucellbccs)"
   ]
  },
  {
   "cell_type": "code",
   "execution_count": 19,
   "metadata": {},
   "outputs": [],
   "source": [
    "rcs=[]\n",
    "rc = 1\n",
    "u0fcc = []\n",
    "u0bcc = []\n",
    "for i in range(51):#rc in range [1,6]\n",
    "    rcs.append(rc)\n",
    "    u0fcc.append(equilibrium_ufcc(int(rc*2), rc))\n",
    "    u0bcc.append(equilibrium_ubcc(int(rc*2), rc))\n",
    "    rc = rc + 0.1"
   ]
  },
  {
   "cell_type": "code",
   "execution_count": 20,
   "metadata": {},
   "outputs": [
    {
     "data": {
      "image/png": "[encoded data removed]",
      "text/plain": [
       "<Figure size 432x288 with 1 Axes>"
      ]
     },
     "metadata": {
      "needs_background": "light"
     },
     "output_type": "display_data"
    }
   ],
   "source": [
    "plt.figure()\n",
    "plt.plot(rcs,u0fcc)\n",
    "plt.xlabel('cutoff distance')\n",
    "plt.ylabel('energy at the equilibrium')\n",
    "plt.title('energy at the equilibrium vs cutoff distance (FCC)')\n",
    "plt.show()"
   ]
  },
  {
   "cell_type": "code",
   "execution_count": 21,
   "metadata": {},
   "outputs": [
    {
     "data": {
      "image/png": "[encoded data removed]",
      "text/plain": [
       "<Figure size 432x288 with 1 Axes>"
      ]
     },
     "metadata": {
      "needs_background": "light"
     },
     "output_type": "display_data"
    }
   ],
   "source": [
    "plt.figure()\n",
    "plt.plot(rcs, u0bcc)\n",
    "plt.xlabel('cutoff distance')\n",
    "plt.ylabel('energy at the equilibrium')\n",
    "plt.title('energy at the equilibrium vs cutoff distance (BCC)')\n",
    "plt.show()"
   ]
  },
  {
   "cell_type": "code",
   "execution_count": null,
   "metadata": {},
   "outputs": [],
   "source": []
  }
 ],
 "metadata": {
  "kernelspec": {
   "display_name": "Python 3",
   "language": "python",
   "name": "python3"
  },
  "language_info": {
   "codemirror_mode": {
    "name": "ipython",
    "version": 3
   },
   "file_extension": ".py",
   "mimetype": "text/x-python",
   "name": "python",
   "nbconvert_exporter": "python",
   "pygments_lexer": "ipython3",
   "version": "3.7.0"
  }
 },
 "nbformat": 4,
 "nbformat_minor": 2
}
