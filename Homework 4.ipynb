{
 "cells": [
  {
   "cell_type": "markdown",
   "metadata": {},
   "source": [
    "# Homework 4"
   ]
  },
  {
   "cell_type": "markdown",
   "metadata": {},
   "source": [
    "Follow the example in this notebook. The assignment is at the bottom."
   ]
  },
  {
   "cell_type": "markdown",
   "metadata": {},
   "source": [
    "First we import the libraries we'll need."
   ]
  },
  {
   "cell_type": "code",
   "execution_count": 11,
   "metadata": {},
   "outputs": [],
   "source": [
    "import numpy as np # For almost anything numerical\n",
    "import pandas as pd  # To read data\n",
    "import matplotlib.pyplot as plt # for plotting\n",
    "import seaborn as sns # statistical visualization\n",
    "%matplotlib inline"
   ]
  },
  {
   "cell_type": "markdown",
   "metadata": {},
   "source": [
    "Next, set the file location."
   ]
  },
  {
   "cell_type": "code",
   "execution_count": 12,
   "metadata": {},
   "outputs": [],
   "source": [
    "myfile ='http://www.buffalo.edu/~erikeina/MDI505/elementdata.csv'"
   ]
  },
  {
   "cell_type": "markdown",
   "metadata": {},
   "source": [
    "Now we read the csv file."
   ]
  },
  {
   "cell_type": "code",
   "execution_count": 13,
   "metadata": {},
   "outputs": [],
   "source": [
    "df = pd.read_csv(myfile)"
   ]
  },
  {
   "cell_type": "markdown",
   "metadata": {},
   "source": [
    "Take a look at the first few lines to get an idea of what we're working with. "
   ]
  },
  {
   "cell_type": "code",
   "execution_count": 14,
   "metadata": {
    "scrolled": true
   },
   "outputs": [
    {
     "data": {
      "text/html": [
       "<div>\n",
       "<style scoped>\n",
       "    .dataframe tbody tr th:only-of-type {\n",
       "        vertical-align: middle;\n",
       "    }\n",
       "\n",
       "    .dataframe tbody tr th {\n",
       "        vertical-align: top;\n",
       "    }\n",
       "\n",
       "    .dataframe thead th {\n",
       "        text-align: right;\n",
       "    }\n",
       "</style>\n",
       "<table border=\"1\" class=\"dataframe\">\n",
       "  <thead>\n",
       "    <tr style=\"text-align: right;\">\n",
       "      <th></th>\n",
       "      <th>Atomic Number</th>\n",
       "      <th>Symbol</th>\n",
       "      <th>Period</th>\n",
       "      <th>Group</th>\n",
       "      <th>Electronegativity</th>\n",
       "      <th>Calculated Radius</th>\n",
       "      <th>First Ionization</th>\n",
       "      <th>Core Configuration</th>\n",
       "      <th>Heat of Vapor</th>\n",
       "      <th>Covalent Radius</th>\n",
       "      <th>...</th>\n",
       "      <th>Second Ionization</th>\n",
       "      <th>Mass</th>\n",
       "      <th>Van der Waals Radius</th>\n",
       "      <th>Specific Heat</th>\n",
       "      <th>Thermal Cond.</th>\n",
       "      <th>Third Ionization</th>\n",
       "      <th>Series</th>\n",
       "      <th>Electron Affinity</th>\n",
       "      <th>Mohs Hardness</th>\n",
       "      <th>Empirical Radius</th>\n",
       "    </tr>\n",
       "  </thead>\n",
       "  <tbody>\n",
       "    <tr>\n",
       "      <th>0</th>\n",
       "      <td>1</td>\n",
       "      <td>H</td>\n",
       "      <td>1</td>\n",
       "      <td>1</td>\n",
       "      <td>2.2</td>\n",
       "      <td>53</td>\n",
       "      <td>1312</td>\n",
       "      <td>1s1</td>\n",
       "      <td>0.452</td>\n",
       "      <td>37</td>\n",
       "      <td>...</td>\n",
       "      <td>Unknown</td>\n",
       "      <td>1.007940</td>\n",
       "      <td>120</td>\n",
       "      <td>14300</td>\n",
       "      <td>0.1805</td>\n",
       "      <td>Unknown</td>\n",
       "      <td>Nonmetal</td>\n",
       "      <td>72.8</td>\n",
       "      <td>Unknown</td>\n",
       "      <td>25</td>\n",
       "    </tr>\n",
       "    <tr>\n",
       "      <th>1</th>\n",
       "      <td>2</td>\n",
       "      <td>He</td>\n",
       "      <td>1</td>\n",
       "      <td>18</td>\n",
       "      <td>Unknown</td>\n",
       "      <td>31</td>\n",
       "      <td>2372.3</td>\n",
       "      <td>1s2</td>\n",
       "      <td>0.083</td>\n",
       "      <td>32</td>\n",
       "      <td>...</td>\n",
       "      <td>5250.5</td>\n",
       "      <td>4.002602</td>\n",
       "      <td>140</td>\n",
       "      <td>5193.1</td>\n",
       "      <td>0.1513</td>\n",
       "      <td>Unknown</td>\n",
       "      <td>Noble Gas</td>\n",
       "      <td>0</td>\n",
       "      <td>Unknown</td>\n",
       "      <td>Unknown</td>\n",
       "    </tr>\n",
       "    <tr>\n",
       "      <th>2</th>\n",
       "      <td>3</td>\n",
       "      <td>Li</td>\n",
       "      <td>2</td>\n",
       "      <td>1</td>\n",
       "      <td>0.98</td>\n",
       "      <td>167</td>\n",
       "      <td>520.2</td>\n",
       "      <td>[He] 2s1</td>\n",
       "      <td>147</td>\n",
       "      <td>134</td>\n",
       "      <td>...</td>\n",
       "      <td>7298.1</td>\n",
       "      <td>6.941000</td>\n",
       "      <td>182</td>\n",
       "      <td>3570</td>\n",
       "      <td>85</td>\n",
       "      <td>11815</td>\n",
       "      <td>Alkali Metal</td>\n",
       "      <td>59.6</td>\n",
       "      <td>0.6</td>\n",
       "      <td>145</td>\n",
       "    </tr>\n",
       "    <tr>\n",
       "      <th>3</th>\n",
       "      <td>4</td>\n",
       "      <td>Be</td>\n",
       "      <td>2</td>\n",
       "      <td>2</td>\n",
       "      <td>1.57</td>\n",
       "      <td>112</td>\n",
       "      <td>899.5</td>\n",
       "      <td>[He] 2s2</td>\n",
       "      <td>297</td>\n",
       "      <td>90</td>\n",
       "      <td>...</td>\n",
       "      <td>1757.1</td>\n",
       "      <td>9.012182</td>\n",
       "      <td>Unknown</td>\n",
       "      <td>1820</td>\n",
       "      <td>190</td>\n",
       "      <td>14848.7</td>\n",
       "      <td>Alkaline Earth Metal</td>\n",
       "      <td>0</td>\n",
       "      <td>5.5</td>\n",
       "      <td>105</td>\n",
       "    </tr>\n",
       "    <tr>\n",
       "      <th>4</th>\n",
       "      <td>5</td>\n",
       "      <td>B</td>\n",
       "      <td>2</td>\n",
       "      <td>13</td>\n",
       "      <td>2.04</td>\n",
       "      <td>87</td>\n",
       "      <td>800.6</td>\n",
       "      <td>[He] 2s2 2p1</td>\n",
       "      <td>507</td>\n",
       "      <td>82</td>\n",
       "      <td>...</td>\n",
       "      <td>2427.1</td>\n",
       "      <td>10.811000</td>\n",
       "      <td>Unknown</td>\n",
       "      <td>1030</td>\n",
       "      <td>27</td>\n",
       "      <td>3659.7</td>\n",
       "      <td>Metalloid</td>\n",
       "      <td>26.7</td>\n",
       "      <td>9.3</td>\n",
       "      <td>85</td>\n",
       "    </tr>\n",
       "    <tr>\n",
       "      <th>5</th>\n",
       "      <td>6</td>\n",
       "      <td>C</td>\n",
       "      <td>2</td>\n",
       "      <td>14</td>\n",
       "      <td>2.55</td>\n",
       "      <td>67</td>\n",
       "      <td>1086.5</td>\n",
       "      <td>[He] 2s2 2p2</td>\n",
       "      <td>715</td>\n",
       "      <td>77</td>\n",
       "      <td>...</td>\n",
       "      <td>2352.6</td>\n",
       "      <td>12.010700</td>\n",
       "      <td>170</td>\n",
       "      <td>710</td>\n",
       "      <td>140</td>\n",
       "      <td>4620.5</td>\n",
       "      <td>Nonmetal</td>\n",
       "      <td>153.9</td>\n",
       "      <td>0.5</td>\n",
       "      <td>70</td>\n",
       "    </tr>\n",
       "    <tr>\n",
       "      <th>6</th>\n",
       "      <td>7</td>\n",
       "      <td>N</td>\n",
       "      <td>2</td>\n",
       "      <td>15</td>\n",
       "      <td>3.04</td>\n",
       "      <td>56</td>\n",
       "      <td>1402.3</td>\n",
       "      <td>[He] 2s2 2p3</td>\n",
       "      <td>2.79</td>\n",
       "      <td>75</td>\n",
       "      <td>...</td>\n",
       "      <td>2856</td>\n",
       "      <td>14.006700</td>\n",
       "      <td>155</td>\n",
       "      <td>1040</td>\n",
       "      <td>0.02583</td>\n",
       "      <td>4578.1</td>\n",
       "      <td>Nonmetal</td>\n",
       "      <td>7</td>\n",
       "      <td>Unknown</td>\n",
       "      <td>65</td>\n",
       "    </tr>\n",
       "    <tr>\n",
       "      <th>7</th>\n",
       "      <td>8</td>\n",
       "      <td>O</td>\n",
       "      <td>2</td>\n",
       "      <td>16</td>\n",
       "      <td>3.44</td>\n",
       "      <td>48</td>\n",
       "      <td>1313.9</td>\n",
       "      <td>[He] 2s2 2p4</td>\n",
       "      <td>3.41</td>\n",
       "      <td>73</td>\n",
       "      <td>...</td>\n",
       "      <td>3388.3</td>\n",
       "      <td>15.999400</td>\n",
       "      <td>152</td>\n",
       "      <td>919</td>\n",
       "      <td>0.02658</td>\n",
       "      <td>5300.5</td>\n",
       "      <td>Nonmetal</td>\n",
       "      <td>141</td>\n",
       "      <td>Unknown</td>\n",
       "      <td>60</td>\n",
       "    </tr>\n",
       "    <tr>\n",
       "      <th>8</th>\n",
       "      <td>9</td>\n",
       "      <td>F</td>\n",
       "      <td>2</td>\n",
       "      <td>17</td>\n",
       "      <td>3.98</td>\n",
       "      <td>42</td>\n",
       "      <td>1681</td>\n",
       "      <td>[He] 2s2 2p5</td>\n",
       "      <td>3.27</td>\n",
       "      <td>71</td>\n",
       "      <td>...</td>\n",
       "      <td>3374.2</td>\n",
       "      <td>18.998403</td>\n",
       "      <td>147</td>\n",
       "      <td>824</td>\n",
       "      <td>0.0277</td>\n",
       "      <td>6050.4</td>\n",
       "      <td>Halogen</td>\n",
       "      <td>328</td>\n",
       "      <td>Unknown</td>\n",
       "      <td>50</td>\n",
       "    </tr>\n",
       "    <tr>\n",
       "      <th>9</th>\n",
       "      <td>10</td>\n",
       "      <td>Ne</td>\n",
       "      <td>2</td>\n",
       "      <td>18</td>\n",
       "      <td>Unknown</td>\n",
       "      <td>38</td>\n",
       "      <td>2080.7</td>\n",
       "      <td>[He] 2s2 2p6</td>\n",
       "      <td>1.75</td>\n",
       "      <td>69</td>\n",
       "      <td>...</td>\n",
       "      <td>3952.3</td>\n",
       "      <td>20.179700</td>\n",
       "      <td>154</td>\n",
       "      <td>1030</td>\n",
       "      <td>0.0491</td>\n",
       "      <td>6122</td>\n",
       "      <td>Noble Gas</td>\n",
       "      <td>0</td>\n",
       "      <td>Unknown</td>\n",
       "      <td>Unknown</td>\n",
       "    </tr>\n",
       "  </tbody>\n",
       "</table>\n",
       "<p>10 rows × 31 columns</p>\n",
       "</div>"
      ],
      "text/plain": [
       "   Atomic Number Symbol  Period  Group Electronegativity Calculated Radius  \\\n",
       "0              1      H       1      1               2.2                53   \n",
       "1              2     He       1     18           Unknown                31   \n",
       "2              3     Li       2      1              0.98               167   \n",
       "3              4     Be       2      2              1.57               112   \n",
       "4              5      B       2     13              2.04                87   \n",
       "5              6      C       2     14              2.55                67   \n",
       "6              7      N       2     15              3.04                56   \n",
       "7              8      O       2     16              3.44                48   \n",
       "8              9      F       2     17              3.98                42   \n",
       "9             10     Ne       2     18           Unknown                38   \n",
       "\n",
       "  First Ionization Core Configuration Heat of Vapor Covalent Radius  \\\n",
       "0             1312                1s1         0.452              37   \n",
       "1           2372.3                1s2         0.083              32   \n",
       "2            520.2           [He] 2s1           147             134   \n",
       "3            899.5           [He] 2s2           297              90   \n",
       "4            800.6       [He] 2s2 2p1           507              82   \n",
       "5           1086.5       [He] 2s2 2p2           715              77   \n",
       "6           1402.3       [He] 2s2 2p3          2.79              75   \n",
       "7           1313.9       [He] 2s2 2p4          3.41              73   \n",
       "8             1681       [He] 2s2 2p5          3.27              71   \n",
       "9           2080.7       [He] 2s2 2p6          1.75              69   \n",
       "\n",
       "        ...        Second Ionization       Mass Van der Waals Radius  \\\n",
       "0       ...                  Unknown   1.007940                  120   \n",
       "1       ...                   5250.5   4.002602                  140   \n",
       "2       ...                   7298.1   6.941000                  182   \n",
       "3       ...                   1757.1   9.012182              Unknown   \n",
       "4       ...                   2427.1  10.811000              Unknown   \n",
       "5       ...                   2352.6  12.010700                  170   \n",
       "6       ...                     2856  14.006700                  155   \n",
       "7       ...                   3388.3  15.999400                  152   \n",
       "8       ...                   3374.2  18.998403                  147   \n",
       "9       ...                   3952.3  20.179700                  154   \n",
       "\n",
       "  Specific Heat Thermal Cond. Third Ionization                Series  \\\n",
       "0         14300        0.1805          Unknown              Nonmetal   \n",
       "1        5193.1        0.1513          Unknown             Noble Gas   \n",
       "2          3570            85            11815          Alkali Metal   \n",
       "3          1820           190          14848.7  Alkaline Earth Metal   \n",
       "4          1030            27           3659.7             Metalloid   \n",
       "5           710           140           4620.5              Nonmetal   \n",
       "6          1040       0.02583           4578.1              Nonmetal   \n",
       "7           919       0.02658           5300.5              Nonmetal   \n",
       "8           824        0.0277           6050.4               Halogen   \n",
       "9          1030        0.0491             6122             Noble Gas   \n",
       "\n",
       "  Electron Affinity Mohs Hardness Empirical Radius  \n",
       "0              72.8       Unknown               25  \n",
       "1                 0       Unknown          Unknown  \n",
       "2              59.6           0.6              145  \n",
       "3                 0           5.5              105  \n",
       "4              26.7           9.3               85  \n",
       "5             153.9           0.5               70  \n",
       "6                 7       Unknown               65  \n",
       "7               141       Unknown               60  \n",
       "8               328       Unknown               50  \n",
       "9                 0       Unknown          Unknown  \n",
       "\n",
       "[10 rows x 31 columns]"
      ]
     },
     "execution_count": 14,
     "metadata": {},
     "output_type": "execute_result"
    }
   ],
   "source": [
    "df.head(10)"
   ]
  },
  {
   "cell_type": "markdown",
   "metadata": {},
   "source": [
    "Ok, there's a lot here. Let's get some more info."
   ]
  },
  {
   "cell_type": "code",
   "execution_count": 15,
   "metadata": {
    "scrolled": true
   },
   "outputs": [
    {
     "name": "stdout",
     "output_type": "stream",
     "text": [
      "<class 'pandas.core.frame.DataFrame'>\n",
      "RangeIndex: 118 entries, 0 to 117\n",
      "Data columns (total 31 columns):\n",
      "Atomic Number           118 non-null int64\n",
      "Symbol                  118 non-null object\n",
      "Period                  118 non-null int64\n",
      "Group                   118 non-null int64\n",
      "Electronegativity       118 non-null object\n",
      "Calculated Radius       118 non-null object\n",
      "First Ionization        118 non-null object\n",
      "Core Configuration      118 non-null object\n",
      "Heat of Vapor           118 non-null object\n",
      "Covalent Radius         118 non-null object\n",
      "Heat of Fusion          118 non-null object\n",
      "Bulk Modulus            118 non-null object\n",
      "Boiling Point           118 non-null object\n",
      "Brinell Hardness        118 non-null object\n",
      "Melting Point           118 non-null object\n",
      "STP Density             118 non-null object\n",
      "Young Modulus           118 non-null object\n",
      "Shear Modulus           118 non-null object\n",
      "Vickers Hardness        118 non-null object\n",
      "Name                    118 non-null object\n",
      "Common Ions             46 non-null object\n",
      "Second Ionization       118 non-null object\n",
      "Mass                    118 non-null float64\n",
      "Van der Waals Radius    118 non-null object\n",
      "Specific Heat           118 non-null object\n",
      "Thermal Cond.           118 non-null object\n",
      "Third Ionization        118 non-null object\n",
      "Series                  118 non-null object\n",
      "Electron Affinity       118 non-null object\n",
      "Mohs Hardness           118 non-null object\n",
      "Empirical Radius        118 non-null object\n",
      "dtypes: float64(1), int64(3), object(27)\n",
      "memory usage: 28.7+ KB\n"
     ]
    }
   ],
   "source": [
    "df.info()"
   ]
  },
  {
   "cell_type": "markdown",
   "metadata": {},
   "source": [
    "Most of the columns are classified as \"objects\" instead of numerical values. In the head we saw many values listed as \"Unknown\". Let's replace these with NaN (not a number) to make it easier to process."
   ]
  },
  {
   "cell_type": "code",
   "execution_count": 16,
   "metadata": {},
   "outputs": [],
   "source": [
    "df = df.replace('Unknown', np.nan)"
   ]
  },
  {
   "cell_type": "markdown",
   "metadata": {},
   "source": [
    "Now we can convert the columns to numeric. However, not all columns should be numeric (like \"Symbol\"), so let's ignore any errors. The alternative would be to force the values to become numeric (using `errors='coerce'`, which we don't want to do."
   ]
  },
  {
   "cell_type": "code",
   "execution_count": 17,
   "metadata": {},
   "outputs": [],
   "source": [
    "df = df.apply(pd.to_numeric, errors='ignore')"
   ]
  },
  {
   "cell_type": "markdown",
   "metadata": {},
   "source": [
    "Next, let's see how the entries are related by computing a correlation matrix."
   ]
  },
  {
   "cell_type": "code",
   "execution_count": 18,
   "metadata": {},
   "outputs": [],
   "source": [
    "corr=df.corr()"
   ]
  },
  {
   "cell_type": "markdown",
   "metadata": {},
   "source": [
    "We can visualize the correlation matrix by plotting as a heatmap."
   ]
  },
  {
   "cell_type": "code",
   "execution_count": 19,
   "metadata": {},
   "outputs": [
    {
     "data": {
      "text/plain": [
       "<matplotlib.axes._subplots.AxesSubplot at 0x1f0efbfb4a8>"
      ]
     },
     "execution_count": 19,
     "metadata": {},
     "output_type": "execute_result"
    },
    {
     "data": {
      "image/png": "[encoded data removed]",
      "text/plain": [
       "<Figure size 432x288 with 2 Axes>"
      ]
     },
     "metadata": {
      "needs_background": "light"
     },
     "output_type": "display_data"
    }
   ],
   "source": [
    "sns.heatmap(corr,xticklabels=corr.columns,yticklabels=corr.columns)"
   ]
  },
  {
   "cell_type": "markdown",
   "metadata": {},
   "source": [
    "If we sort the correlation matrix by a value, we can get a list of most to least strongly correlated to that value. Let's try that for Atomic Number."
   ]
  },
  {
   "cell_type": "code",
   "execution_count": 20,
   "metadata": {},
   "outputs": [
    {
     "data": {
      "text/plain": [
       "['Atomic Number',\n",
       " 'Mass',\n",
       " 'Period',\n",
       " 'STP Density',\n",
       " 'Empirical Radius',\n",
       " 'Covalent Radius',\n",
       " 'Calculated Radius',\n",
       " 'Boiling Point',\n",
       " 'Brinell Hardness',\n",
       " 'Heat of Vapor',\n",
       " 'Van der Waals Radius',\n",
       " 'Melting Point',\n",
       " 'Shear Modulus',\n",
       " 'Bulk Modulus',\n",
       " 'Mohs Hardness',\n",
       " 'Young Modulus',\n",
       " 'Electron Affinity',\n",
       " 'Heat of Fusion',\n",
       " 'Group',\n",
       " 'Thermal Cond.',\n",
       " 'Electronegativity',\n",
       " 'Vickers Hardness',\n",
       " 'Specific Heat',\n",
       " 'First Ionization',\n",
       " 'Second Ionization',\n",
       " 'Third Ionization']"
      ]
     },
     "execution_count": 20,
     "metadata": {},
     "output_type": "execute_result"
    }
   ],
   "source": [
    "corr_sort_AtomicNumber=df.corr().sort_values('Atomic Number', ascending=False).index\n",
    "list(corr_sort_AtomicNumber)"
   ]
  },
  {
   "cell_type": "markdown",
   "metadata": {},
   "source": [
    "Ignoring the first value (itself), the value most strongly correlated with Atomic Number is Mass. Let's compare those. The seaborn function `lmplot` will combine a plot with a linear model. "
   ]
  },
  {
   "cell_type": "code",
   "execution_count": 33,
   "metadata": {},
   "outputs": [
    {
     "name": "stderr",
     "output_type": "stream",
     "text": [
      "C:\\Users\\He\\Anaconda3\\lib\\site-packages\\scipy\\stats\\stats.py:1713: FutureWarning: Using a non-tuple sequence for multidimensional indexing is deprecated; use `arr[tuple(seq)]` instead of `arr[seq]`. In the future this will be interpreted as an array index, `arr[np.array(seq)]`, which will result either in an error or a different result.\n",
      "  return np.add.reduce(sorted[indexer] * weights, axis=axis) / sumval\n"
     ]
    },
    {
     "data": {
      "text/plain": [
       "<seaborn.axisgrid.FacetGrid at 0x1f0f03db518>"
      ]
     },
     "execution_count": 33,
     "metadata": {},
     "output_type": "execute_result"
    },
    {
     "data": {
      "image/png": "[encoded data removed]",
      "text/plain": [
       "<Figure size 360x360 with 1 Axes>"
      ]
     },
     "metadata": {
      "needs_background": "light"
     },
     "output_type": "display_data"
    }
   ],
   "source": [
    "sns.lmplot(x='Atomic Number',y='Mass',data=df)"
   ]
  },
  {
   "cell_type": "markdown",
   "metadata": {},
   "source": [
    "This relationship is nearly linear. We should have expected this result, because a larger atomic number means more protons, which means more mass."
   ]
  },
  {
   "cell_type": "markdown",
   "metadata": {},
   "source": [
    "## Assignment"
   ]
  },
  {
   "cell_type": "markdown",
   "metadata": {},
   "source": [
    "What other relations are there? Explore this dataset by plotting other correlations. For example, there are two hardness values (Brinell and Vickers); how are these correlated? How are they related to properties like Young's modulus or melting point? What trends go across groups or down periods of the periodic table?\n",
    "\n",
    "You don't have to answer the above questions, but your assignment is as follows:\n",
    " - Find a correlation based on a different entry (i.e., not Atomic Number)\n",
    " - Plot the correlation (facet or group into subplots as necessary).\n",
    " - Explain the reason behind the relation you've found."
   ]
  },
  {
   "cell_type": "code",
   "execution_count": 43,
   "metadata": {},
   "outputs": [
    {
     "name": "stderr",
     "output_type": "stream",
     "text": [
      "C:\\Users\\He\\Anaconda3\\lib\\site-packages\\scipy\\stats\\stats.py:1713: FutureWarning: Using a non-tuple sequence for multidimensional indexing is deprecated; use `arr[tuple(seq)]` instead of `arr[seq]`. In the future this will be interpreted as an array index, `arr[np.array(seq)]`, which will result either in an error or a different result.\n",
      "  return np.add.reduce(sorted[indexer] * weights, axis=axis) / sumval\n"
     ]
    },
    {
     "data": {
      "text/plain": [
       "<seaborn.axisgrid.FacetGrid at 0x1f0f27a4cf8>"
      ]
     },
     "execution_count": 43,
     "metadata": {},
     "output_type": "execute_result"
    },
    {
     "data": {
      "image/png": "[encoded data removed]",
      "text/plain": [
       "<Figure size 360x360 with 1 Axes>"
      ]
     },
     "metadata": {
      "needs_background": "light"
     },
     "output_type": "display_data"
    }
   ],
   "source": [
    "sns.lmplot(y='Boiling Point',x='Heat of Vapor',data=df)"
   ]
  },
  {
   "cell_type": "markdown",
   "metadata": {},
   "source": [
    "Heat of vapor is the amount of energy (enthalpy) that must be added to a liquid substance to transform a quantity of that substance into a gas. Boiling point is the temperature at which the vapor pressure of the liquid equals the pressure surrounding the liquid and the liquid changes into a vapor."
   ]
  },
  {
   "cell_type": "markdown",
   "metadata": {},
   "source": [
    "These two kind of physical quantities both mainly depend on the Van der Waals force between molecules. As a result, the change of boling point against heat vapour looks close to linear."
   ]
  }
 ],
 "metadata": {
  "kernelspec": {
   "display_name": "Python 3",
   "language": "python",
   "name": "python3"
  },
  "language_info": {
   "codemirror_mode": {
    "name": "ipython",
    "version": 3
   },
   "file_extension": ".py",
   "mimetype": "text/x-python",
   "name": "python",
   "nbconvert_exporter": "python",
   "pygments_lexer": "ipython3",
   "version": "3.7.0"
  }
 },
 "nbformat": 4,
 "nbformat_minor": 2
}
